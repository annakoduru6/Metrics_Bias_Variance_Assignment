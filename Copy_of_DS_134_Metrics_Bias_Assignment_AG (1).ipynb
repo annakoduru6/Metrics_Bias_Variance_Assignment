{
  "cells": [
    {
      "cell_type": "markdown",
      "id": "e276bb37",
      "metadata": {
        "deletable": false,
        "editable": false,
        "nbgrader": {
          "cell_type": "markdown",
          "checksum": "48ce949e64e744a712aa9d5be62221b9",
          "grade": false,
          "grade_id": "cell-1a771173b3b47706",
          "locked": true,
          "schema_version": 3,
          "solution": false,
          "task": false
        },
        "id": "e276bb37"
      },
      "source": [
        "# Data Science  - Unit 1 Sprint 3 Module 4\n",
        "\n",
        "## Module Project: Metrics, Bias and Variance\n",
        "\n",
        "### Learning Objectives\n",
        "\n",
        "* Interpret your model results using OLS and Sklearn metrics\n",
        "* Define and analyze bias in your model\n",
        "* Define and analyze variance in your model"
      ]
    },
    {
      "cell_type": "markdown",
      "id": "ea501c70",
      "metadata": {
        "deletable": false,
        "editable": false,
        "nbgrader": {
          "cell_type": "markdown",
          "checksum": "30eb8935f0b7dd3f44cda452c5d5fb7b",
          "grade": false,
          "grade_id": "cell-66d859feacd21304",
          "locked": true,
          "schema_version": 3,
          "solution": false,
          "task": false
        },
        "id": "ea501c70"
      },
      "source": [
        "## Analyzing results from diamonds\n",
        "\n",
        "Use the seaborn dataset `diamonds` to run a linear regression model and produce the common metrics you would use to evaluate your model's accuracy. "
      ]
    },
    {
      "cell_type": "markdown",
      "id": "661bd6be",
      "metadata": {
        "deletable": false,
        "editable": false,
        "nbgrader": {
          "cell_type": "markdown",
          "checksum": "1ae1076d3d0fd55473de2e28a91b99e2",
          "grade": false,
          "grade_id": "cell-ef0ac03663d1ddde",
          "locked": true,
          "schema_version": 3,
          "solution": false,
          "task": false
        },
        "id": "661bd6be"
      },
      "source": [
        "**Task 1** - Load the data\n",
        "Load the `diamonds` dataset from the `seaborn` package. \n",
        "\n",
        "- Assign the value to an object called `dia`\n",
        "- Make sure to import the packages you expect to use for an `ols` linear regression model. "
      ]
    },
    {
      "cell_type": "code",
      "execution_count": null,
      "id": "912fdf28",
      "metadata": {
        "deletable": false,
        "nbgrader": {
          "cell_type": "code",
          "checksum": "cdd86f96a8c757f7280f0a22c6697bc1",
          "grade": false,
          "grade_id": "cell-9cb6a33a84a55252",
          "locked": false,
          "schema_version": 3,
          "solution": true,
          "task": false
        },
        "id": "912fdf28",
        "colab": {
          "base_uri": "https://localhost:8080/"
        },
        "outputId": "084040ac-7111-4dc6-d15c-28bf915180c7"
      },
      "outputs": [
        {
          "output_type": "stream",
          "name": "stderr",
          "text": [
            "/usr/local/lib/python3.7/dist-packages/statsmodels/tools/_testing.py:19: FutureWarning: pandas.util.testing is deprecated. Use the functions in the public API at pandas.testing instead.\n",
            "  import pandas.util.testing as tm\n"
          ]
        }
      ],
      "source": [
        "#Task 1\n",
        "\n",
        "#imports\n",
        "import pandas as pd\n",
        "import numpy as np\n",
        "import matplotlib.pyplot as plt\n",
        "import seaborn as sns\n",
        "from sklearn import metrics\n",
        "from statsmodels.formula.api import ols\n",
        "\n",
        "\n",
        "# YOUR CODE HERE\n",
        "sns.get_dataset_names()\n",
        "dia = sns.load_dataset('diamonds')"
      ]
    },
    {
      "cell_type": "code",
      "execution_count": null,
      "id": "56ee6971",
      "metadata": {
        "deletable": false,
        "editable": false,
        "nbgrader": {
          "cell_type": "code",
          "checksum": "9aa09b45e597166d8f8fde0dcdccd34b",
          "grade": true,
          "grade_id": "cell-44689b2d030034e2",
          "locked": true,
          "points": 1,
          "schema_version": 3,
          "solution": false,
          "task": false
        },
        "id": "56ee6971"
      },
      "outputs": [],
      "source": [
        "# Task 1 - Tests\n",
        "\n",
        "assert isinstance(dia, pd.DataFrame)\n"
      ]
    },
    {
      "cell_type": "markdown",
      "id": "2d8ed5a4",
      "metadata": {
        "deletable": false,
        "editable": false,
        "nbgrader": {
          "cell_type": "markdown",
          "checksum": "869d6acefeec7514c25108904813b652",
          "grade": false,
          "grade_id": "cell-5353ad6fc8d263f1",
          "locked": true,
          "schema_version": 3,
          "solution": false,
          "task": false
        },
        "id": "2d8ed5a4"
      },
      "source": [
        "**Task 2** - Conduct EDA on your dataset\n",
        "- Check for null values. Assign the total number of null values in your dataset to `num_null`"
      ]
    },
    {
      "cell_type": "code",
      "execution_count": null,
      "id": "23e55927",
      "metadata": {
        "deletable": false,
        "nbgrader": {
          "cell_type": "code",
          "checksum": "1af7ff6b83d020cf6f97734ba55de859",
          "grade": false,
          "grade_id": "cell-6f304c0a6507dec5",
          "locked": false,
          "schema_version": 3,
          "solution": true,
          "task": false
        },
        "id": "23e55927"
      },
      "outputs": [],
      "source": [
        "#Task 2\n",
        "# YOUR CODE HERE\n",
        "num_null = dia.isnull().sum().sum()\n"
      ]
    },
    {
      "cell_type": "code",
      "execution_count": null,
      "id": "44fdfb0b",
      "metadata": {
        "deletable": false,
        "editable": false,
        "nbgrader": {
          "cell_type": "code",
          "checksum": "ad04e53d134cf9df0726130dbdbea6b8",
          "grade": true,
          "grade_id": "cell-fdc8bbdfe5827fa7",
          "locked": true,
          "points": 1,
          "schema_version": 3,
          "solution": false,
          "task": false
        },
        "id": "44fdfb0b"
      },
      "outputs": [],
      "source": [
        "# Task 2 - Tests\n"
      ]
    },
    {
      "cell_type": "markdown",
      "id": "1fa02297",
      "metadata": {
        "deletable": false,
        "editable": false,
        "nbgrader": {
          "cell_type": "markdown",
          "checksum": "03095268e0a58f39df028517aaa7bebb",
          "grade": false,
          "grade_id": "cell-4d6bb850ff25f9f2",
          "locked": true,
          "schema_version": 3,
          "solution": false,
          "task": false
        },
        "id": "1fa02297"
      },
      "source": [
        "**Task 3** - Visualize your feature distributions\n",
        "\n",
        "- Use seaborn's `pairplot`to visualize the distributions for all your dataset's features.\n",
        "- You can access the documentation [here](https://seaborn.pydata.org/generated/seaborn.pairplot.html)\n",
        "- This next task will not be autograded. "
      ]
    },
    {
      "cell_type": "code",
      "source": [
        "#sns.pairplot(data= dia)"
      ],
      "metadata": {
        "id": "D8213W6aVyBi"
      },
      "id": "D8213W6aVyBi",
      "execution_count": null,
      "outputs": []
    },
    {
      "cell_type": "markdown",
      "id": "6cf3578e",
      "metadata": {
        "deletable": false,
        "editable": false,
        "nbgrader": {
          "cell_type": "markdown",
          "checksum": "1a961b83104709230c4664a7c907bc16",
          "grade": false,
          "grade_id": "cell-f0d05d577cf6c3b2",
          "locked": true,
          "schema_version": 3,
          "solution": false,
          "task": false
        },
        "id": "6cf3578e"
      },
      "source": [
        "**Task 4**\n",
        "\n",
        "How would you describe the distribution for the `price` feature?\n",
        "\n",
        "A: Uniform\n",
        "\n",
        "B: Right skewed\n",
        "\n",
        "C: Left skewed\n",
        "\n",
        "D: Normally distributed\n",
        "\n",
        "Specify your answer in the next code block using Answer =. For example, if the correct answer is choice B, you'll type Answer = 'B'."
      ]
    },
    {
      "cell_type": "code",
      "execution_count": null,
      "id": "3fc2e507",
      "metadata": {
        "deletable": false,
        "nbgrader": {
          "cell_type": "code",
          "checksum": "c60d34307506794e975a46eaad4074be",
          "grade": false,
          "grade_id": "cell-c7981aeaad693e10",
          "locked": false,
          "schema_version": 3,
          "solution": true,
          "task": false
        },
        "id": "3fc2e507"
      },
      "outputs": [],
      "source": [
        "#Task 4\n",
        "\n",
        "# YOUR CODE HERE\n",
        "Answer = \"B\""
      ]
    },
    {
      "cell_type": "code",
      "execution_count": null,
      "id": "db97c3ce",
      "metadata": {
        "deletable": false,
        "editable": false,
        "nbgrader": {
          "cell_type": "code",
          "checksum": "3f944f5250f2057af3d4805d3b27067b",
          "grade": true,
          "grade_id": "cell-4950fa558630a5ff",
          "locked": true,
          "points": 1,
          "schema_version": 3,
          "solution": false,
          "task": false
        },
        "id": "db97c3ce"
      },
      "outputs": [],
      "source": [
        "#Task 4 - Test\n"
      ]
    },
    {
      "cell_type": "markdown",
      "id": "20798ce2",
      "metadata": {
        "deletable": false,
        "editable": false,
        "nbgrader": {
          "cell_type": "markdown",
          "checksum": "f74639382ce9c22538fbaa5bb362c2f8",
          "grade": false,
          "grade_id": "cell-5948eb0a7d4d5c4c",
          "locked": true,
          "schema_version": 3,
          "solution": false,
          "task": false
        },
        "id": "20798ce2"
      },
      "source": [
        "**Task 5** Check for multicollinearity\n",
        "\n",
        "- Determine the `pearson` correlations for the `x`, `y`, and `z` columns to `carat`. \n",
        "- Assign the value of the correlations to `x_corr`, `y_corr` and `z_corr` respectively. "
      ]
    },
    {
      "cell_type": "code",
      "source": [
        "dia.head()"
      ],
      "metadata": {
        "colab": {
          "base_uri": "https://localhost:8080/",
          "height": 206
        },
        "id": "MqXx3p-7YLv-",
        "outputId": "017398fc-78a0-418c-f4e6-0070a4ffb653"
      },
      "id": "MqXx3p-7YLv-",
      "execution_count": null,
      "outputs": [
        {
          "output_type": "execute_result",
          "data": {
            "text/html": [
              "\n",
              "  <div id=\"df-ed66aba0-c73b-4586-8780-f3eaafb03478\">\n",
              "    <div class=\"colab-df-container\">\n",
              "      <div>\n",
              "<style scoped>\n",
              "    .dataframe tbody tr th:only-of-type {\n",
              "        vertical-align: middle;\n",
              "    }\n",
              "\n",
              "    .dataframe tbody tr th {\n",
              "        vertical-align: top;\n",
              "    }\n",
              "\n",
              "    .dataframe thead th {\n",
              "        text-align: right;\n",
              "    }\n",
              "</style>\n",
              "<table border=\"1\" class=\"dataframe\">\n",
              "  <thead>\n",
              "    <tr style=\"text-align: right;\">\n",
              "      <th></th>\n",
              "      <th>carat</th>\n",
              "      <th>cut</th>\n",
              "      <th>color</th>\n",
              "      <th>clarity</th>\n",
              "      <th>depth</th>\n",
              "      <th>table</th>\n",
              "      <th>price</th>\n",
              "      <th>x</th>\n",
              "      <th>y</th>\n",
              "      <th>z</th>\n",
              "    </tr>\n",
              "  </thead>\n",
              "  <tbody>\n",
              "    <tr>\n",
              "      <th>0</th>\n",
              "      <td>0.23</td>\n",
              "      <td>Ideal</td>\n",
              "      <td>E</td>\n",
              "      <td>SI2</td>\n",
              "      <td>61.5</td>\n",
              "      <td>55.0</td>\n",
              "      <td>326</td>\n",
              "      <td>3.95</td>\n",
              "      <td>3.98</td>\n",
              "      <td>2.43</td>\n",
              "    </tr>\n",
              "    <tr>\n",
              "      <th>1</th>\n",
              "      <td>0.21</td>\n",
              "      <td>Premium</td>\n",
              "      <td>E</td>\n",
              "      <td>SI1</td>\n",
              "      <td>59.8</td>\n",
              "      <td>61.0</td>\n",
              "      <td>326</td>\n",
              "      <td>3.89</td>\n",
              "      <td>3.84</td>\n",
              "      <td>2.31</td>\n",
              "    </tr>\n",
              "    <tr>\n",
              "      <th>2</th>\n",
              "      <td>0.23</td>\n",
              "      <td>Good</td>\n",
              "      <td>E</td>\n",
              "      <td>VS1</td>\n",
              "      <td>56.9</td>\n",
              "      <td>65.0</td>\n",
              "      <td>327</td>\n",
              "      <td>4.05</td>\n",
              "      <td>4.07</td>\n",
              "      <td>2.31</td>\n",
              "    </tr>\n",
              "    <tr>\n",
              "      <th>3</th>\n",
              "      <td>0.29</td>\n",
              "      <td>Premium</td>\n",
              "      <td>I</td>\n",
              "      <td>VS2</td>\n",
              "      <td>62.4</td>\n",
              "      <td>58.0</td>\n",
              "      <td>334</td>\n",
              "      <td>4.20</td>\n",
              "      <td>4.23</td>\n",
              "      <td>2.63</td>\n",
              "    </tr>\n",
              "    <tr>\n",
              "      <th>4</th>\n",
              "      <td>0.31</td>\n",
              "      <td>Good</td>\n",
              "      <td>J</td>\n",
              "      <td>SI2</td>\n",
              "      <td>63.3</td>\n",
              "      <td>58.0</td>\n",
              "      <td>335</td>\n",
              "      <td>4.34</td>\n",
              "      <td>4.35</td>\n",
              "      <td>2.75</td>\n",
              "    </tr>\n",
              "  </tbody>\n",
              "</table>\n",
              "</div>\n",
              "      <button class=\"colab-df-convert\" onclick=\"convertToInteractive('df-ed66aba0-c73b-4586-8780-f3eaafb03478')\"\n",
              "              title=\"Convert this dataframe to an interactive table.\"\n",
              "              style=\"display:none;\">\n",
              "        \n",
              "  <svg xmlns=\"http://www.w3.org/2000/svg\" height=\"24px\"viewBox=\"0 0 24 24\"\n",
              "       width=\"24px\">\n",
              "    <path d=\"M0 0h24v24H0V0z\" fill=\"none\"/>\n",
              "    <path d=\"M18.56 5.44l.94 2.06.94-2.06 2.06-.94-2.06-.94-.94-2.06-.94 2.06-2.06.94zm-11 1L8.5 8.5l.94-2.06 2.06-.94-2.06-.94L8.5 2.5l-.94 2.06-2.06.94zm10 10l.94 2.06.94-2.06 2.06-.94-2.06-.94-.94-2.06-.94 2.06-2.06.94z\"/><path d=\"M17.41 7.96l-1.37-1.37c-.4-.4-.92-.59-1.43-.59-.52 0-1.04.2-1.43.59L10.3 9.45l-7.72 7.72c-.78.78-.78 2.05 0 2.83L4 21.41c.39.39.9.59 1.41.59.51 0 1.02-.2 1.41-.59l7.78-7.78 2.81-2.81c.8-.78.8-2.07 0-2.86zM5.41 20L4 18.59l7.72-7.72 1.47 1.35L5.41 20z\"/>\n",
              "  </svg>\n",
              "      </button>\n",
              "      \n",
              "  <style>\n",
              "    .colab-df-container {\n",
              "      display:flex;\n",
              "      flex-wrap:wrap;\n",
              "      gap: 12px;\n",
              "    }\n",
              "\n",
              "    .colab-df-convert {\n",
              "      background-color: #E8F0FE;\n",
              "      border: none;\n",
              "      border-radius: 50%;\n",
              "      cursor: pointer;\n",
              "      display: none;\n",
              "      fill: #1967D2;\n",
              "      height: 32px;\n",
              "      padding: 0 0 0 0;\n",
              "      width: 32px;\n",
              "    }\n",
              "\n",
              "    .colab-df-convert:hover {\n",
              "      background-color: #E2EBFA;\n",
              "      box-shadow: 0px 1px 2px rgba(60, 64, 67, 0.3), 0px 1px 3px 1px rgba(60, 64, 67, 0.15);\n",
              "      fill: #174EA6;\n",
              "    }\n",
              "\n",
              "    [theme=dark] .colab-df-convert {\n",
              "      background-color: #3B4455;\n",
              "      fill: #D2E3FC;\n",
              "    }\n",
              "\n",
              "    [theme=dark] .colab-df-convert:hover {\n",
              "      background-color: #434B5C;\n",
              "      box-shadow: 0px 1px 3px 1px rgba(0, 0, 0, 0.15);\n",
              "      filter: drop-shadow(0px 1px 2px rgba(0, 0, 0, 0.3));\n",
              "      fill: #FFFFFF;\n",
              "    }\n",
              "  </style>\n",
              "\n",
              "      <script>\n",
              "        const buttonEl =\n",
              "          document.querySelector('#df-ed66aba0-c73b-4586-8780-f3eaafb03478 button.colab-df-convert');\n",
              "        buttonEl.style.display =\n",
              "          google.colab.kernel.accessAllowed ? 'block' : 'none';\n",
              "\n",
              "        async function convertToInteractive(key) {\n",
              "          const element = document.querySelector('#df-ed66aba0-c73b-4586-8780-f3eaafb03478');\n",
              "          const dataTable =\n",
              "            await google.colab.kernel.invokeFunction('convertToInteractive',\n",
              "                                                     [key], {});\n",
              "          if (!dataTable) return;\n",
              "\n",
              "          const docLinkHtml = 'Like what you see? Visit the ' +\n",
              "            '<a target=\"_blank\" href=https://colab.research.google.com/notebooks/data_table.ipynb>data table notebook</a>'\n",
              "            + ' to learn more about interactive tables.';\n",
              "          element.innerHTML = '';\n",
              "          dataTable['output_type'] = 'display_data';\n",
              "          await google.colab.output.renderOutput(dataTable, element);\n",
              "          const docLink = document.createElement('div');\n",
              "          docLink.innerHTML = docLinkHtml;\n",
              "          element.appendChild(docLink);\n",
              "        }\n",
              "      </script>\n",
              "    </div>\n",
              "  </div>\n",
              "  "
            ],
            "text/plain": [
              "   carat      cut color clarity  depth  table  price     x     y     z\n",
              "0   0.23    Ideal     E     SI2   61.5   55.0    326  3.95  3.98  2.43\n",
              "1   0.21  Premium     E     SI1   59.8   61.0    326  3.89  3.84  2.31\n",
              "2   0.23     Good     E     VS1   56.9   65.0    327  4.05  4.07  2.31\n",
              "3   0.29  Premium     I     VS2   62.4   58.0    334  4.20  4.23  2.63\n",
              "4   0.31     Good     J     SI2   63.3   58.0    335  4.34  4.35  2.75"
            ]
          },
          "metadata": {},
          "execution_count": 9
        }
      ]
    },
    {
      "cell_type": "code",
      "execution_count": null,
      "id": "0c882771",
      "metadata": {
        "deletable": false,
        "nbgrader": {
          "cell_type": "code",
          "checksum": "47e197a45cf6243c199e4cf7ca8b3e7a",
          "grade": false,
          "grade_id": "cell-3bb28a36542eabdb",
          "locked": false,
          "schema_version": 3,
          "solution": true,
          "task": false
        },
        "id": "0c882771",
        "colab": {
          "base_uri": "https://localhost:8080/"
        },
        "outputId": "b9814cd0-11ab-4505-a6ab-f22ee2b37cd7"
      },
      "outputs": [
        {
          "output_type": "stream",
          "name": "stdout",
          "text": [
            "0.9750942267265641 0.9517221990130819 0.9533873805614387\n"
          ]
        }
      ],
      "source": [
        "#Task 5\n",
        "\n",
        "# YOUR CODE HERE\n",
        "import scipy.stats as st\n",
        "\n",
        "#y_corr = st.pearsonr(dia['carat'], dia['y'])\n",
        "#z_corr = st.pearsonr(dia['carat'], dia['z'])\n",
        "x_corr, y_corr, z_corr = dia.corr().loc['carat', ['x', 'y', 'z']]\n",
        "\n",
        "print(x_corr, y_corr, z_corr)"
      ]
    },
    {
      "cell_type": "code",
      "execution_count": null,
      "id": "fca2d006",
      "metadata": {
        "deletable": false,
        "editable": false,
        "nbgrader": {
          "cell_type": "code",
          "checksum": "3e0e7215493259c10dfb4a0985cc2bfc",
          "grade": true,
          "grade_id": "cell-a61182842c3afbc9",
          "locked": true,
          "points": 1,
          "schema_version": 3,
          "solution": false,
          "task": false
        },
        "id": "fca2d006"
      },
      "outputs": [],
      "source": [
        "#Task 5 - Test\n",
        "\n"
      ]
    },
    {
      "cell_type": "markdown",
      "id": "ce99c0e1",
      "metadata": {
        "deletable": false,
        "editable": false,
        "nbgrader": {
          "cell_type": "markdown",
          "checksum": "dbf16d8fbf3df238c1e623ca485db24f",
          "grade": false,
          "grade_id": "cell-1cc2dfc0b89eaa6e",
          "locked": true,
          "schema_version": 3,
          "solution": false,
          "task": false
        },
        "id": "ce99c0e1"
      },
      "source": [
        "**Task 6** \n",
        "\n",
        "\n",
        "Because these three columns share a great deal of correlation with the `carat` feature, it does not make sense to use them as part of our model. Drop the three columns and reassign to the `dia` dataframe. "
      ]
    },
    {
      "cell_type": "code",
      "execution_count": null,
      "id": "1ba085ba",
      "metadata": {
        "deletable": false,
        "nbgrader": {
          "cell_type": "code",
          "checksum": "642f986d2558287bd5a1abfdc425bf73",
          "grade": false,
          "grade_id": "cell-9bb880654a9bbb51",
          "locked": false,
          "schema_version": 3,
          "solution": true,
          "task": false
        },
        "id": "1ba085ba",
        "colab": {
          "base_uri": "https://localhost:8080/",
          "height": 206
        },
        "outputId": "dd717c61-b1e0-4f4b-d99a-17ce29bfc06c"
      },
      "outputs": [
        {
          "output_type": "execute_result",
          "data": {
            "text/html": [
              "\n",
              "  <div id=\"df-5eb3ef70-205a-42b2-8d22-55c73f3ae283\">\n",
              "    <div class=\"colab-df-container\">\n",
              "      <div>\n",
              "<style scoped>\n",
              "    .dataframe tbody tr th:only-of-type {\n",
              "        vertical-align: middle;\n",
              "    }\n",
              "\n",
              "    .dataframe tbody tr th {\n",
              "        vertical-align: top;\n",
              "    }\n",
              "\n",
              "    .dataframe thead th {\n",
              "        text-align: right;\n",
              "    }\n",
              "</style>\n",
              "<table border=\"1\" class=\"dataframe\">\n",
              "  <thead>\n",
              "    <tr style=\"text-align: right;\">\n",
              "      <th></th>\n",
              "      <th>carat</th>\n",
              "      <th>cut</th>\n",
              "      <th>color</th>\n",
              "      <th>clarity</th>\n",
              "      <th>depth</th>\n",
              "      <th>table</th>\n",
              "      <th>price</th>\n",
              "    </tr>\n",
              "  </thead>\n",
              "  <tbody>\n",
              "    <tr>\n",
              "      <th>0</th>\n",
              "      <td>0.23</td>\n",
              "      <td>Ideal</td>\n",
              "      <td>E</td>\n",
              "      <td>SI2</td>\n",
              "      <td>61.5</td>\n",
              "      <td>55.0</td>\n",
              "      <td>326</td>\n",
              "    </tr>\n",
              "    <tr>\n",
              "      <th>1</th>\n",
              "      <td>0.21</td>\n",
              "      <td>Premium</td>\n",
              "      <td>E</td>\n",
              "      <td>SI1</td>\n",
              "      <td>59.8</td>\n",
              "      <td>61.0</td>\n",
              "      <td>326</td>\n",
              "    </tr>\n",
              "    <tr>\n",
              "      <th>2</th>\n",
              "      <td>0.23</td>\n",
              "      <td>Good</td>\n",
              "      <td>E</td>\n",
              "      <td>VS1</td>\n",
              "      <td>56.9</td>\n",
              "      <td>65.0</td>\n",
              "      <td>327</td>\n",
              "    </tr>\n",
              "    <tr>\n",
              "      <th>3</th>\n",
              "      <td>0.29</td>\n",
              "      <td>Premium</td>\n",
              "      <td>I</td>\n",
              "      <td>VS2</td>\n",
              "      <td>62.4</td>\n",
              "      <td>58.0</td>\n",
              "      <td>334</td>\n",
              "    </tr>\n",
              "    <tr>\n",
              "      <th>4</th>\n",
              "      <td>0.31</td>\n",
              "      <td>Good</td>\n",
              "      <td>J</td>\n",
              "      <td>SI2</td>\n",
              "      <td>63.3</td>\n",
              "      <td>58.0</td>\n",
              "      <td>335</td>\n",
              "    </tr>\n",
              "  </tbody>\n",
              "</table>\n",
              "</div>\n",
              "      <button class=\"colab-df-convert\" onclick=\"convertToInteractive('df-5eb3ef70-205a-42b2-8d22-55c73f3ae283')\"\n",
              "              title=\"Convert this dataframe to an interactive table.\"\n",
              "              style=\"display:none;\">\n",
              "        \n",
              "  <svg xmlns=\"http://www.w3.org/2000/svg\" height=\"24px\"viewBox=\"0 0 24 24\"\n",
              "       width=\"24px\">\n",
              "    <path d=\"M0 0h24v24H0V0z\" fill=\"none\"/>\n",
              "    <path d=\"M18.56 5.44l.94 2.06.94-2.06 2.06-.94-2.06-.94-.94-2.06-.94 2.06-2.06.94zm-11 1L8.5 8.5l.94-2.06 2.06-.94-2.06-.94L8.5 2.5l-.94 2.06-2.06.94zm10 10l.94 2.06.94-2.06 2.06-.94-2.06-.94-.94-2.06-.94 2.06-2.06.94z\"/><path d=\"M17.41 7.96l-1.37-1.37c-.4-.4-.92-.59-1.43-.59-.52 0-1.04.2-1.43.59L10.3 9.45l-7.72 7.72c-.78.78-.78 2.05 0 2.83L4 21.41c.39.39.9.59 1.41.59.51 0 1.02-.2 1.41-.59l7.78-7.78 2.81-2.81c.8-.78.8-2.07 0-2.86zM5.41 20L4 18.59l7.72-7.72 1.47 1.35L5.41 20z\"/>\n",
              "  </svg>\n",
              "      </button>\n",
              "      \n",
              "  <style>\n",
              "    .colab-df-container {\n",
              "      display:flex;\n",
              "      flex-wrap:wrap;\n",
              "      gap: 12px;\n",
              "    }\n",
              "\n",
              "    .colab-df-convert {\n",
              "      background-color: #E8F0FE;\n",
              "      border: none;\n",
              "      border-radius: 50%;\n",
              "      cursor: pointer;\n",
              "      display: none;\n",
              "      fill: #1967D2;\n",
              "      height: 32px;\n",
              "      padding: 0 0 0 0;\n",
              "      width: 32px;\n",
              "    }\n",
              "\n",
              "    .colab-df-convert:hover {\n",
              "      background-color: #E2EBFA;\n",
              "      box-shadow: 0px 1px 2px rgba(60, 64, 67, 0.3), 0px 1px 3px 1px rgba(60, 64, 67, 0.15);\n",
              "      fill: #174EA6;\n",
              "    }\n",
              "\n",
              "    [theme=dark] .colab-df-convert {\n",
              "      background-color: #3B4455;\n",
              "      fill: #D2E3FC;\n",
              "    }\n",
              "\n",
              "    [theme=dark] .colab-df-convert:hover {\n",
              "      background-color: #434B5C;\n",
              "      box-shadow: 0px 1px 3px 1px rgba(0, 0, 0, 0.15);\n",
              "      filter: drop-shadow(0px 1px 2px rgba(0, 0, 0, 0.3));\n",
              "      fill: #FFFFFF;\n",
              "    }\n",
              "  </style>\n",
              "\n",
              "      <script>\n",
              "        const buttonEl =\n",
              "          document.querySelector('#df-5eb3ef70-205a-42b2-8d22-55c73f3ae283 button.colab-df-convert');\n",
              "        buttonEl.style.display =\n",
              "          google.colab.kernel.accessAllowed ? 'block' : 'none';\n",
              "\n",
              "        async function convertToInteractive(key) {\n",
              "          const element = document.querySelector('#df-5eb3ef70-205a-42b2-8d22-55c73f3ae283');\n",
              "          const dataTable =\n",
              "            await google.colab.kernel.invokeFunction('convertToInteractive',\n",
              "                                                     [key], {});\n",
              "          if (!dataTable) return;\n",
              "\n",
              "          const docLinkHtml = 'Like what you see? Visit the ' +\n",
              "            '<a target=\"_blank\" href=https://colab.research.google.com/notebooks/data_table.ipynb>data table notebook</a>'\n",
              "            + ' to learn more about interactive tables.';\n",
              "          element.innerHTML = '';\n",
              "          dataTable['output_type'] = 'display_data';\n",
              "          await google.colab.output.renderOutput(dataTable, element);\n",
              "          const docLink = document.createElement('div');\n",
              "          docLink.innerHTML = docLinkHtml;\n",
              "          element.appendChild(docLink);\n",
              "        }\n",
              "      </script>\n",
              "    </div>\n",
              "  </div>\n",
              "  "
            ],
            "text/plain": [
              "   carat      cut color clarity  depth  table  price\n",
              "0   0.23    Ideal     E     SI2   61.5   55.0    326\n",
              "1   0.21  Premium     E     SI1   59.8   61.0    326\n",
              "2   0.23     Good     E     VS1   56.9   65.0    327\n",
              "3   0.29  Premium     I     VS2   62.4   58.0    334\n",
              "4   0.31     Good     J     SI2   63.3   58.0    335"
            ]
          },
          "metadata": {},
          "execution_count": 12
        }
      ],
      "source": [
        "#Task 6\n",
        "\n",
        "# YOUR CODE HERE\n",
        "dia = dia.drop(['x', 'y', 'z'], axis = 1)\n",
        "dia.head()"
      ]
    },
    {
      "cell_type": "code",
      "execution_count": null,
      "id": "8e5d1c0c",
      "metadata": {
        "deletable": false,
        "editable": false,
        "nbgrader": {
          "cell_type": "code",
          "checksum": "3242bc07a300e7f1cb6aff71829983b1",
          "grade": true,
          "grade_id": "cell-b82cf6a65063e5db",
          "locked": true,
          "points": 1,
          "schema_version": 3,
          "solution": false,
          "task": false
        },
        "id": "8e5d1c0c"
      },
      "outputs": [],
      "source": [
        "#Task 6 - Test\n",
        "\n"
      ]
    },
    {
      "cell_type": "markdown",
      "id": "58479fa7",
      "metadata": {
        "deletable": false,
        "editable": false,
        "nbgrader": {
          "cell_type": "markdown",
          "checksum": "aeba3de8cb0abaf9bfaaf2fe910e0216",
          "grade": false,
          "grade_id": "cell-b4fede92d948542e",
          "locked": true,
          "schema_version": 3,
          "solution": false,
          "task": false
        },
        "id": "58479fa7"
      },
      "source": [
        "**Task 7** - OLS Modeling\n",
        "\n",
        "- Use `carat` as your independent feature. \n",
        "- Use the `price` values as your dependent features. \n",
        "- Build an OLS model and review the summary report. Make sure to assign a variable called `model`"
      ]
    },
    {
      "cell_type": "code",
      "execution_count": null,
      "id": "7c29524b",
      "metadata": {
        "deletable": false,
        "nbgrader": {
          "cell_type": "code",
          "checksum": "4e516bbca514fcd0e6c956b6fedd7854",
          "grade": false,
          "grade_id": "cell-7cdc6fb8a68ea0a6",
          "locked": false,
          "schema_version": 3,
          "solution": true,
          "task": false
        },
        "id": "7c29524b",
        "colab": {
          "base_uri": "https://localhost:8080/"
        },
        "outputId": "03fb7ba4-662d-4946-87d4-0d2d4f604a14"
      },
      "outputs": [
        {
          "output_type": "stream",
          "name": "stdout",
          "text": [
            "                            OLS Regression Results                            \n",
            "==============================================================================\n",
            "Dep. Variable:                  price   R-squared:                       0.849\n",
            "Model:                            OLS   Adj. R-squared:                  0.849\n",
            "Method:                 Least Squares   F-statistic:                 3.041e+05\n",
            "Date:                Fri, 28 Jan 2022   Prob (F-statistic):               0.00\n",
            "Time:                        01:18:35   Log-Likelihood:            -4.7273e+05\n",
            "No. Observations:               53940   AIC:                         9.455e+05\n",
            "Df Residuals:                   53938   BIC:                         9.455e+05\n",
            "Df Model:                           1                                         \n",
            "Covariance Type:            nonrobust                                         \n",
            "==============================================================================\n",
            "                 coef    std err          t      P>|t|      [0.025      0.975]\n",
            "------------------------------------------------------------------------------\n",
            "Intercept  -2256.3606     13.055   -172.830      0.000   -2281.949   -2230.772\n",
            "carat       7756.4256     14.067    551.408      0.000    7728.855    7783.996\n",
            "==============================================================================\n",
            "Omnibus:                    14025.341   Durbin-Watson:                   0.986\n",
            "Prob(Omnibus):                  0.000   Jarque-Bera (JB):           153030.525\n",
            "Skew:                           0.939   Prob(JB):                         0.00\n",
            "Kurtosis:                      11.035   Cond. No.                         3.65\n",
            "==============================================================================\n",
            "\n",
            "Warnings:\n",
            "[1] Standard Errors assume that the covariance matrix of the errors is correctly specified.\n"
          ]
        }
      ],
      "source": [
        "#Task 7\n",
        "\n",
        "# YOUR CODE HERE\n",
        "model = ols('price ~ carat', data= dia).fit()\n",
        "\n",
        "print(model.summary())"
      ]
    },
    {
      "cell_type": "code",
      "execution_count": null,
      "id": "02f88dfd",
      "metadata": {
        "deletable": false,
        "editable": false,
        "nbgrader": {
          "cell_type": "code",
          "checksum": "9a20d1bdc1840a9093ced22e9e63cf96",
          "grade": true,
          "grade_id": "cell-a286cb026ed74717",
          "locked": true,
          "points": 1,
          "schema_version": 3,
          "solution": false,
          "task": false
        },
        "id": "02f88dfd"
      },
      "outputs": [],
      "source": [
        "#Task 7 - Test\n",
        "\n",
        "\n"
      ]
    },
    {
      "cell_type": "markdown",
      "id": "6a5e6a1b",
      "metadata": {
        "deletable": false,
        "editable": false,
        "nbgrader": {
          "cell_type": "markdown",
          "checksum": "ebb5c3d213bc624ad113a3637cbcff60",
          "grade": false,
          "grade_id": "cell-acebe66c0d4434b9",
          "locked": true,
          "schema_version": 3,
          "solution": false,
          "task": false
        },
        "id": "6a5e6a1b"
      },
      "source": [
        "**Task 8** - Predictions and Residuals \n",
        "\n",
        "- Create a new column that includes your model predictions for your features. Name the column `y_pred`\n",
        "- Calculate the prediction residuals. Assign the values to a column named `residuals`."
      ]
    },
    {
      "cell_type": "code",
      "execution_count": null,
      "id": "5265ec28",
      "metadata": {
        "deletable": false,
        "nbgrader": {
          "cell_type": "code",
          "checksum": "b41bfe2f9935de3f1c933e608e602461",
          "grade": false,
          "grade_id": "cell-194a68304bff654f",
          "locked": false,
          "schema_version": 3,
          "solution": true,
          "task": false
        },
        "id": "5265ec28"
      },
      "outputs": [],
      "source": [
        "#Task 8\n",
        "\n",
        "# YOUR CODE HERE\n",
        "dia['y_pred'] = model.predict()\n",
        "dia['residuals'] = dia['price'] - dia['y_pred']"
      ]
    },
    {
      "cell_type": "code",
      "execution_count": null,
      "id": "de702d4d",
      "metadata": {
        "deletable": false,
        "editable": false,
        "nbgrader": {
          "cell_type": "code",
          "checksum": "7fa75801d5931f4986fb832682ec094a",
          "grade": true,
          "grade_id": "cell-32971dccea2783bd",
          "locked": true,
          "points": 1,
          "schema_version": 3,
          "solution": false,
          "task": false
        },
        "id": "de702d4d"
      },
      "outputs": [],
      "source": [
        "#Task 8 - Test\n",
        "\n",
        "assert dia.shape == (53940, 9), \"Have you created the two columns?\"\n"
      ]
    },
    {
      "cell_type": "markdown",
      "id": "98190e03",
      "metadata": {
        "deletable": false,
        "editable": false,
        "nbgrader": {
          "cell_type": "markdown",
          "checksum": "6ff594b8613cbf21554b4ea8ea587d02",
          "grade": false,
          "grade_id": "cell-de9d67d9745568e6",
          "locked": true,
          "schema_version": 3,
          "solution": false,
          "task": false
        },
        "id": "98190e03"
      },
      "source": [
        "**Task 9** - Metrics\n",
        "\n",
        "- Determine the values for the **mean absolute error, the mean squared error** and the **root mean squared error** for your previous model. \n",
        "- Assign the values as `mae`, `mse`, and `rmse` respectively. \n",
        "- *Hint*: We discussed a few methods for this in class. You can refer to this [documentation](https://scikit-learn.org/stable/modules/model_evaluation.html) for other metric values."
      ]
    },
    {
      "cell_type": "code",
      "execution_count": null,
      "id": "93742607",
      "metadata": {
        "deletable": false,
        "nbgrader": {
          "cell_type": "code",
          "checksum": "5ec18f5fd68760258ebb92652df8cbf1",
          "grade": false,
          "grade_id": "cell-8521cfc520c32f52",
          "locked": false,
          "schema_version": 3,
          "solution": true,
          "task": false
        },
        "id": "93742607",
        "colab": {
          "base_uri": "https://localhost:8080/"
        },
        "outputId": "8ca95bd9-4083-43de-defe-d202586146a9"
      },
      "outputs": [
        {
          "output_type": "execute_result",
          "data": {
            "text/plain": [
              "1548.5331930613174"
            ]
          },
          "metadata": {},
          "execution_count": 18
        }
      ],
      "source": [
        "#Task 9\n",
        "\n",
        "# YOUR CODE HERE\n",
        "import sklearn.metrics as metrics\n",
        "import numpy as np \n",
        "mae = metrics.mean_absolute_error(dia['price'], dia['y_pred'])\n",
        "mse = metrics.mean_squared_error(dia['price'], dia['y_pred'])\n",
        "rmse = np.sqrt(metrics.mean_squared_error(dia['price'], dia['y_pred']))\n",
        "rmse"
      ]
    },
    {
      "cell_type": "code",
      "execution_count": null,
      "id": "73527065",
      "metadata": {
        "deletable": false,
        "editable": false,
        "nbgrader": {
          "cell_type": "code",
          "checksum": "26244b4d39e3d008bbe0eaf01783c64b",
          "grade": true,
          "grade_id": "cell-320164f97411992e",
          "locked": true,
          "points": 1,
          "schema_version": 3,
          "solution": false,
          "task": false
        },
        "id": "73527065"
      },
      "outputs": [],
      "source": [
        "#Task 9 - Test\n"
      ]
    },
    {
      "cell_type": "markdown",
      "id": "7bd3cff8",
      "metadata": {
        "deletable": false,
        "editable": false,
        "nbgrader": {
          "cell_type": "markdown",
          "checksum": "84630bda622894830e1612bee50a28d3",
          "grade": false,
          "grade_id": "cell-81f843066ad33ee1",
          "locked": true,
          "schema_version": 3,
          "solution": false,
          "task": false
        },
        "id": "7bd3cff8"
      },
      "source": [
        "**Task 10** - OLS Modeling, Addtional Features\n",
        "\n",
        "- Use the `depth`, `table`, and `carat` as your independent features. \n",
        "- Use the `price` values as your dependent features. \n",
        "- Build an OLS model and review the summary report. Make sure to assign a variable called `model`.  "
      ]
    },
    {
      "cell_type": "code",
      "execution_count": null,
      "id": "01d15611",
      "metadata": {
        "deletable": false,
        "nbgrader": {
          "cell_type": "code",
          "checksum": "0b5e68803fdfab6cda2e7defee52c9d7",
          "grade": false,
          "grade_id": "cell-ae75326bc99156f2",
          "locked": false,
          "schema_version": 3,
          "solution": true,
          "task": false
        },
        "id": "01d15611",
        "colab": {
          "base_uri": "https://localhost:8080/"
        },
        "outputId": "e82147d0-ae6b-4d3e-c878-d7d232746445"
      },
      "outputs": [
        {
          "output_type": "stream",
          "name": "stdout",
          "text": [
            "                            OLS Regression Results                            \n",
            "==============================================================================\n",
            "Dep. Variable:                  price   R-squared:                       0.854\n",
            "Model:                            OLS   Adj. R-squared:                  0.854\n",
            "Method:                 Least Squares   F-statistic:                 1.049e+05\n",
            "Date:                Fri, 28 Jan 2022   Prob (F-statistic):               0.00\n",
            "Time:                        01:18:35   Log-Likelihood:            -4.7194e+05\n",
            "No. Observations:               53940   AIC:                         9.439e+05\n",
            "Df Residuals:                   53936   BIC:                         9.439e+05\n",
            "Df Model:                           3                                         \n",
            "Covariance Type:            nonrobust                                         \n",
            "==============================================================================\n",
            "                 coef    std err          t      P>|t|      [0.025      0.975]\n",
            "------------------------------------------------------------------------------\n",
            "Intercept     1.3e+04    390.918     33.264      0.000    1.22e+04    1.38e+04\n",
            "depth       -151.2363      4.820    -31.378      0.000    -160.683    -141.789\n",
            "table       -104.4728      3.141    -33.259      0.000    -110.630     -98.316\n",
            "carat       7858.7705     14.151    555.356      0.000    7831.035    7886.506\n",
            "==============================================================================\n",
            "Omnibus:                    14107.737   Durbin-Watson:                   1.015\n",
            "Prob(Omnibus):                  0.000   Jarque-Bera (JB):           154392.067\n",
            "Skew:                           0.945   Prob(JB):                         0.00\n",
            "Kurtosis:                      11.070   Cond. No.                     5.02e+03\n",
            "==============================================================================\n",
            "\n",
            "Warnings:\n",
            "[1] Standard Errors assume that the covariance matrix of the errors is correctly specified.\n",
            "[2] The condition number is large, 5.02e+03. This might indicate that there are\n",
            "strong multicollinearity or other numerical problems.\n"
          ]
        }
      ],
      "source": [
        "#Task 10\n",
        "\n",
        "# YOUR CODE HERE\n",
        "model = ols('price ~ depth + table + carat', data= dia).fit()\n",
        "\n",
        "print(model.summary())"
      ]
    },
    {
      "cell_type": "code",
      "execution_count": null,
      "id": "bc60f257",
      "metadata": {
        "deletable": false,
        "editable": false,
        "nbgrader": {
          "cell_type": "code",
          "checksum": "556bfb0f07d4915c69b762a1c9317874",
          "grade": true,
          "grade_id": "cell-30637ae943cc927c",
          "locked": true,
          "points": 1,
          "schema_version": 3,
          "solution": false,
          "task": false
        },
        "id": "bc60f257"
      },
      "outputs": [],
      "source": [
        "#Task 10 - Test\n",
        "\n",
        "\n",
        "assert len(model.params.index) == 4, \"Make sure you've assigned both values.\"\n"
      ]
    },
    {
      "cell_type": "markdown",
      "id": "d719f680",
      "metadata": {
        "deletable": false,
        "editable": false,
        "nbgrader": {
          "cell_type": "markdown",
          "checksum": "57d7e74695f0e849300811e3ba35933a",
          "grade": false,
          "grade_id": "cell-0e10e4c3bd167d21",
          "locked": true,
          "schema_version": 3,
          "solution": false,
          "task": false
        },
        "id": "d719f680"
      },
      "source": [
        "**Task 11** - Predictions and Residuals \n",
        "\n",
        "- Create a new column that includes your model predictions for your features. Name the column `y_pred`\n",
        "- Calculate the prediction residuals. Assign the values to a column named `residuals`.\n"
      ]
    },
    {
      "cell_type": "code",
      "execution_count": null,
      "id": "e88d1372",
      "metadata": {
        "deletable": false,
        "nbgrader": {
          "cell_type": "code",
          "checksum": "9866286458b948b69acb74548edb6f3d",
          "grade": false,
          "grade_id": "cell-eda3b235dda0c890",
          "locked": false,
          "schema_version": 3,
          "solution": true,
          "task": false
        },
        "id": "e88d1372",
        "colab": {
          "base_uri": "https://localhost:8080/"
        },
        "outputId": "f521adaa-bd0b-405b-e999-b5e5c5db3d30"
      },
      "outputs": [
        {
          "output_type": "execute_result",
          "data": {
            "text/plain": [
              "(53940, 9)"
            ]
          },
          "metadata": {},
          "execution_count": 22
        }
      ],
      "source": [
        "#Task 11\n",
        "\n",
        "# YOUR CODE HERE\n",
        "dia['y_pred'] = model.predict()\n",
        "dia['residuals'] = dia['price'] - dia['y_pred']\n",
        "dia.shape"
      ]
    },
    {
      "cell_type": "code",
      "execution_count": null,
      "id": "7291cf0a",
      "metadata": {
        "deletable": false,
        "editable": false,
        "nbgrader": {
          "cell_type": "code",
          "checksum": "628274ae696b785c194a592db8c018b5",
          "grade": true,
          "grade_id": "cell-f8dac98f7966de41",
          "locked": true,
          "points": 1,
          "schema_version": 3,
          "solution": false,
          "task": false
        },
        "id": "7291cf0a"
      },
      "outputs": [],
      "source": [
        "#Task 11- Test\n",
        "\n",
        "assert dia.shape == (53940, 9), \"Have you created the two columns?\"\n"
      ]
    },
    {
      "cell_type": "markdown",
      "id": "0e8c0d40",
      "metadata": {
        "deletable": false,
        "editable": false,
        "nbgrader": {
          "cell_type": "markdown",
          "checksum": "2e56e30669e259294b144d4bde2d45e7",
          "grade": false,
          "grade_id": "cell-ae85b0e3a4e9386b",
          "locked": true,
          "schema_version": 3,
          "solution": false,
          "task": false
        },
        "id": "0e8c0d40"
      },
      "source": [
        "**Task 12** - Predictions and Residuals \n",
        "\n",
        "- Create a new column that includes your model predictions for your features. Name the column `y_pred`\n",
        "- Calculate the prediction residuals. Assign the values to a column named `residuals`.\n"
      ]
    },
    {
      "cell_type": "code",
      "execution_count": null,
      "id": "8c7795db",
      "metadata": {
        "deletable": false,
        "nbgrader": {
          "cell_type": "code",
          "checksum": "6e9b6c95a967015fd90f4e70e2045715",
          "grade": false,
          "grade_id": "cell-67ad55b27ded5304",
          "locked": false,
          "schema_version": 3,
          "solution": true,
          "task": false
        },
        "id": "8c7795db"
      },
      "outputs": [],
      "source": [
        "#Task 12\n",
        "\n",
        "# YOUR CODE HERE\n"
      ]
    },
    {
      "cell_type": "code",
      "execution_count": null,
      "id": "c96efd30",
      "metadata": {
        "deletable": false,
        "nbgrader": {
          "cell_type": "code",
          "checksum": "40ed3e4cb6d0e6a1bee710d01ad4b2fd",
          "grade": false,
          "grade_id": "cell-533c953a3da8f018",
          "locked": false,
          "schema_version": 3,
          "solution": true,
          "task": false
        },
        "id": "c96efd30",
        "colab": {
          "base_uri": "https://localhost:8080/",
          "height": 206
        },
        "outputId": "ec786aa1-1f67-444d-ba4b-7d51e13a5efa"
      },
      "outputs": [
        {
          "output_type": "execute_result",
          "data": {
            "text/html": [
              "\n",
              "  <div id=\"df-4390af0a-9964-4b95-9aec-b48c0d8747d3\">\n",
              "    <div class=\"colab-df-container\">\n",
              "      <div>\n",
              "<style scoped>\n",
              "    .dataframe tbody tr th:only-of-type {\n",
              "        vertical-align: middle;\n",
              "    }\n",
              "\n",
              "    .dataframe tbody tr th {\n",
              "        vertical-align: top;\n",
              "    }\n",
              "\n",
              "    .dataframe thead th {\n",
              "        text-align: right;\n",
              "    }\n",
              "</style>\n",
              "<table border=\"1\" class=\"dataframe\">\n",
              "  <thead>\n",
              "    <tr style=\"text-align: right;\">\n",
              "      <th></th>\n",
              "      <th>carat</th>\n",
              "      <th>cut</th>\n",
              "      <th>color</th>\n",
              "      <th>clarity</th>\n",
              "      <th>depth</th>\n",
              "      <th>table</th>\n",
              "      <th>price</th>\n",
              "      <th>y_pred</th>\n",
              "      <th>residuals</th>\n",
              "    </tr>\n",
              "  </thead>\n",
              "  <tbody>\n",
              "    <tr>\n",
              "      <th>0</th>\n",
              "      <td>0.23</td>\n",
              "      <td>Ideal</td>\n",
              "      <td>E</td>\n",
              "      <td>SI2</td>\n",
              "      <td>61.5</td>\n",
              "      <td>55.0</td>\n",
              "      <td>326</td>\n",
              "      <td>-236.080501</td>\n",
              "      <td>562.080501</td>\n",
              "    </tr>\n",
              "    <tr>\n",
              "      <th>1</th>\n",
              "      <td>0.21</td>\n",
              "      <td>Premium</td>\n",
              "      <td>E</td>\n",
              "      <td>SI1</td>\n",
              "      <td>59.8</td>\n",
              "      <td>61.0</td>\n",
              "      <td>326</td>\n",
              "      <td>-762.990802</td>\n",
              "      <td>1088.990802</td>\n",
              "    </tr>\n",
              "    <tr>\n",
              "      <th>2</th>\n",
              "      <td>0.23</td>\n",
              "      <td>Good</td>\n",
              "      <td>E</td>\n",
              "      <td>VS1</td>\n",
              "      <td>56.9</td>\n",
              "      <td>65.0</td>\n",
              "      <td>327</td>\n",
              "      <td>-585.121107</td>\n",
              "      <td>912.121107</td>\n",
              "    </tr>\n",
              "    <tr>\n",
              "      <th>3</th>\n",
              "      <td>0.29</td>\n",
              "      <td>Premium</td>\n",
              "      <td>I</td>\n",
              "      <td>VS2</td>\n",
              "      <td>62.4</td>\n",
              "      <td>58.0</td>\n",
              "      <td>334</td>\n",
              "      <td>-214.085323</td>\n",
              "      <td>548.085323</td>\n",
              "    </tr>\n",
              "    <tr>\n",
              "      <th>4</th>\n",
              "      <td>0.31</td>\n",
              "      <td>Good</td>\n",
              "      <td>J</td>\n",
              "      <td>SI2</td>\n",
              "      <td>63.3</td>\n",
              "      <td>58.0</td>\n",
              "      <td>335</td>\n",
              "      <td>-193.022625</td>\n",
              "      <td>528.022625</td>\n",
              "    </tr>\n",
              "  </tbody>\n",
              "</table>\n",
              "</div>\n",
              "      <button class=\"colab-df-convert\" onclick=\"convertToInteractive('df-4390af0a-9964-4b95-9aec-b48c0d8747d3')\"\n",
              "              title=\"Convert this dataframe to an interactive table.\"\n",
              "              style=\"display:none;\">\n",
              "        \n",
              "  <svg xmlns=\"http://www.w3.org/2000/svg\" height=\"24px\"viewBox=\"0 0 24 24\"\n",
              "       width=\"24px\">\n",
              "    <path d=\"M0 0h24v24H0V0z\" fill=\"none\"/>\n",
              "    <path d=\"M18.56 5.44l.94 2.06.94-2.06 2.06-.94-2.06-.94-.94-2.06-.94 2.06-2.06.94zm-11 1L8.5 8.5l.94-2.06 2.06-.94-2.06-.94L8.5 2.5l-.94 2.06-2.06.94zm10 10l.94 2.06.94-2.06 2.06-.94-2.06-.94-.94-2.06-.94 2.06-2.06.94z\"/><path d=\"M17.41 7.96l-1.37-1.37c-.4-.4-.92-.59-1.43-.59-.52 0-1.04.2-1.43.59L10.3 9.45l-7.72 7.72c-.78.78-.78 2.05 0 2.83L4 21.41c.39.39.9.59 1.41.59.51 0 1.02-.2 1.41-.59l7.78-7.78 2.81-2.81c.8-.78.8-2.07 0-2.86zM5.41 20L4 18.59l7.72-7.72 1.47 1.35L5.41 20z\"/>\n",
              "  </svg>\n",
              "      </button>\n",
              "      \n",
              "  <style>\n",
              "    .colab-df-container {\n",
              "      display:flex;\n",
              "      flex-wrap:wrap;\n",
              "      gap: 12px;\n",
              "    }\n",
              "\n",
              "    .colab-df-convert {\n",
              "      background-color: #E8F0FE;\n",
              "      border: none;\n",
              "      border-radius: 50%;\n",
              "      cursor: pointer;\n",
              "      display: none;\n",
              "      fill: #1967D2;\n",
              "      height: 32px;\n",
              "      padding: 0 0 0 0;\n",
              "      width: 32px;\n",
              "    }\n",
              "\n",
              "    .colab-df-convert:hover {\n",
              "      background-color: #E2EBFA;\n",
              "      box-shadow: 0px 1px 2px rgba(60, 64, 67, 0.3), 0px 1px 3px 1px rgba(60, 64, 67, 0.15);\n",
              "      fill: #174EA6;\n",
              "    }\n",
              "\n",
              "    [theme=dark] .colab-df-convert {\n",
              "      background-color: #3B4455;\n",
              "      fill: #D2E3FC;\n",
              "    }\n",
              "\n",
              "    [theme=dark] .colab-df-convert:hover {\n",
              "      background-color: #434B5C;\n",
              "      box-shadow: 0px 1px 3px 1px rgba(0, 0, 0, 0.15);\n",
              "      filter: drop-shadow(0px 1px 2px rgba(0, 0, 0, 0.3));\n",
              "      fill: #FFFFFF;\n",
              "    }\n",
              "  </style>\n",
              "\n",
              "      <script>\n",
              "        const buttonEl =\n",
              "          document.querySelector('#df-4390af0a-9964-4b95-9aec-b48c0d8747d3 button.colab-df-convert');\n",
              "        buttonEl.style.display =\n",
              "          google.colab.kernel.accessAllowed ? 'block' : 'none';\n",
              "\n",
              "        async function convertToInteractive(key) {\n",
              "          const element = document.querySelector('#df-4390af0a-9964-4b95-9aec-b48c0d8747d3');\n",
              "          const dataTable =\n",
              "            await google.colab.kernel.invokeFunction('convertToInteractive',\n",
              "                                                     [key], {});\n",
              "          if (!dataTable) return;\n",
              "\n",
              "          const docLinkHtml = 'Like what you see? Visit the ' +\n",
              "            '<a target=\"_blank\" href=https://colab.research.google.com/notebooks/data_table.ipynb>data table notebook</a>'\n",
              "            + ' to learn more about interactive tables.';\n",
              "          element.innerHTML = '';\n",
              "          dataTable['output_type'] = 'display_data';\n",
              "          await google.colab.output.renderOutput(dataTable, element);\n",
              "          const docLink = document.createElement('div');\n",
              "          docLink.innerHTML = docLinkHtml;\n",
              "          element.appendChild(docLink);\n",
              "        }\n",
              "      </script>\n",
              "    </div>\n",
              "  </div>\n",
              "  "
            ],
            "text/plain": [
              "   carat      cut color clarity  depth  table  price      y_pred    residuals\n",
              "0   0.23    Ideal     E     SI2   61.5   55.0    326 -236.080501   562.080501\n",
              "1   0.21  Premium     E     SI1   59.8   61.0    326 -762.990802  1088.990802\n",
              "2   0.23     Good     E     VS1   56.9   65.0    327 -585.121107   912.121107\n",
              "3   0.29  Premium     I     VS2   62.4   58.0    334 -214.085323   548.085323\n",
              "4   0.31     Good     J     SI2   63.3   58.0    335 -193.022625   528.022625"
            ]
          },
          "metadata": {},
          "execution_count": 25
        }
      ],
      "source": [
        "# YOUR CODE HERE\n",
        "dia.head()"
      ]
    },
    {
      "cell_type": "markdown",
      "id": "1f988b2e",
      "metadata": {
        "deletable": false,
        "editable": false,
        "nbgrader": {
          "cell_type": "markdown",
          "checksum": "8be611b68098e3e424657f3fb0595b3e",
          "grade": false,
          "grade_id": "cell-52216d5087cc7eec",
          "locked": true,
          "schema_version": 3,
          "solution": false,
          "task": false
        },
        "id": "1f988b2e"
      },
      "source": [
        "**Task 13** - Metrics\n",
        "\n",
        "- Determine the values for the **mean absolute error, the mean squared error** and the **root mean squared error** for your previous model. \n",
        "- Assign the values as `mae`, `mse`, and `rmse` respectively. \n",
        "- *Hint*: We discussed a few methods for this in class. You can refer to this [documentation](https://scikit-learn.org/stable/modules/model_evaluation.html) for other metric values."
      ]
    },
    {
      "cell_type": "code",
      "execution_count": null,
      "id": "c9f5857a",
      "metadata": {
        "deletable": false,
        "nbgrader": {
          "cell_type": "code",
          "checksum": "63ee118c65d3fc319eb7952830522140",
          "grade": false,
          "grade_id": "cell-29fb7569c52b05de",
          "locked": false,
          "schema_version": 3,
          "solution": true,
          "task": false
        },
        "id": "c9f5857a"
      },
      "outputs": [],
      "source": [
        "#Task 13\n",
        "\n",
        "# YOUR CODE HERE\n",
        "mae = metrics.mean_absolute_error(dia['price'], dia['y_pred'])\n",
        "mse = metrics.mean_squared_error(dia['price'], dia['y_pred'])\n",
        "rmse = np.sqrt(metrics.mean_squared_error(dia['price'], dia['y_pred']))\n"
      ]
    },
    {
      "cell_type": "code",
      "execution_count": null,
      "id": "8006ba10",
      "metadata": {
        "deletable": false,
        "editable": false,
        "nbgrader": {
          "cell_type": "code",
          "checksum": "658e5a00f754fa9ab86c47680462e286",
          "grade": true,
          "grade_id": "cell-9319992c1a2f4f94",
          "locked": true,
          "points": 1,
          "schema_version": 3,
          "solution": false,
          "task": false
        },
        "id": "8006ba10"
      },
      "outputs": [],
      "source": [
        "#Task 13 - Test\n"
      ]
    }
  ],
  "metadata": {
    "kernelspec": {
      "display_name": "Python 3",
      "language": "python",
      "name": "python3"
    },
    "language_info": {
      "codemirror_mode": {
        "name": "ipython",
        "version": 3
      },
      "file_extension": ".py",
      "mimetype": "text/x-python",
      "name": "python",
      "nbconvert_exporter": "python",
      "pygments_lexer": "ipython3",
      "version": "3.8.8"
    },
    "colab": {
      "name": "Copy of DS_134_Metrics_Bias_Assignment_AG.ipynb",
      "provenance": []
    }
  },
  "nbformat": 4,
  "nbformat_minor": 5
}